{
  "nbformat": 4,
  "nbformat_minor": 0,
  "metadata": {
    "colab": {
      "provenance": []
    },
    "kernelspec": {
      "name": "python3",
      "display_name": "Python 3"
    },
    "language_info": {
      "name": "python"
    }
  },
  "cells": [
    {
      "cell_type": "code",
      "execution_count": null,
      "metadata": {
        "id": "b3EQ9kjrpnIz"
      },
      "outputs": [],
      "source": [
        "\n"
      ]
    },
    {
      "cell_type": "code",
      "source": [],
      "metadata": {
        "id": "WewV738otAVm"
      },
      "execution_count": null,
      "outputs": []
    },
    {
      "cell_type": "markdown",
      "source": [
        "Q-3. Consider the ‘Blood Pressure Before’ and ‘Blood Pressure After’ columns from the\n",
        "data and calculate the following\n",
        "\n",
        "https://drive.google.com/file/d/1mCjtYHiX--mMUjicuaP2gH3k-SnFxt8Y/view?usp=share_\n",
        "a. Measure the dispersion in both and interpret the results.\n",
        "b. Calculate mean and 5% confidence interval and plot it in a graph\n",
        "c. Calculate the Mean absolute deviation and Standard deviation and interpret\n",
        "the results.\n",
        "d. Calculate the correlation coefficient and check the significance of it at 1% level\n",
        "of significance.\n"
      ],
      "metadata": {
        "id": "tgVWZdDNtBQS"
      }
    },
    {
      "cell_type": "code",
      "source": [
        "from scipy import stats\n",
        "import pandas as pd\n",
        "import numpy as np\n",
        "df=pd.read_csv('/content/data (1).csv')\n",
        "from numpy import var"
      ],
      "metadata": {
        "id": "PZngft_VtAeO"
      },
      "execution_count": null,
      "outputs": []
    },
    {
      "cell_type": "code",
      "source": [
        "df.columns"
      ],
      "metadata": {
        "colab": {
          "base_uri": "https://localhost:8080/"
        },
        "id": "_7HLKCZ-woII",
        "outputId": "c5187bee-2398-47a3-b6e8-a5f4310fff2c"
      },
      "execution_count": null,
      "outputs": [
        {
          "output_type": "execute_result",
          "data": {
            "text/plain": [
              "Index(['Patient ID', ' Blood Pressure Before (mmHg)',\n",
              "       ' Blood Pressure After (mmHg)'],\n",
              "      dtype='object')"
            ]
          },
          "metadata": {},
          "execution_count": 4
        }
      ]
    },
    {
      "cell_type": "code",
      "source": [
        "#a Measure the dispersion in both datasets:\n",
        "\n",
        "variance_Blood_Pressure_Before = df[' Blood Pressure Before (mmHg)'].var(ddof=0)\n",
        "variance_Blood_Pressure_After = df[' Blood Pressure After (mmHg)'].var(ddof=0)\n",
        "print(\"Dispersion of Blood pressure before: \",round(variance_Blood_Pressure_Before,2))\n",
        "print(\"Dispersion of Blood pressure after: \",round(variance_Blood_Pressure_After,2))"
      ],
      "metadata": {
        "colab": {
          "base_uri": "https://localhost:8080/"
        },
        "id": "EraUmhjztAnn",
        "outputId": "b50f0aff-e7ef-443a-98ac-b8b06e4ddd7c"
      },
      "execution_count": null,
      "outputs": [
        {
          "output_type": "stream",
          "name": "stdout",
          "text": [
            "Dispersion of Blood pressure before:  43.1\n",
            "Dispersion of Blood pressure after:  46.97\n"
          ]
        }
      ]
    },
    {
      "cell_type": "code",
      "source": [
        "#b Calculate mean and 5% confidence interval and plot it in a graph \n",
        "import numpy as np\n",
        "import matplotlib.pyplot as plt\n",
        "from scipy.stats import t\n",
        "# Assume you have a dataset stored in a DataFrame called 'df' with columns 'column1' and 'column2'\n",
        "mean_before = df[' Blood Pressure Before (mmHg)'].mean()\n",
        "mean_after = df[' Blood Pressure After (mmHg)'].mean()\n",
        "print(\"Mean of Blood pressure before:\", mean_column1)\n",
        "print(\"Mean of Blood pressure after:\", mean_column2)\n",
        "data1=len(df[' Blood Pressure Before (mmHg)'])\n",
        "data2=len(df[' Blood Pressure After (mmHg)'])\n",
        "\n",
        "#Standard error\n",
        "# Calculate standard error\n",
        "se_before =  df[' Blood Pressure Before (mmHg)'].std() / np.sqrt(len(df[' Blood Pressure Before (mmHg)']))\n",
        "print(\" Standard Error for before the blood pressure is : \",se_before )\n",
        "se_after = df[' Blood Pressure After (mmHg)'].std() / np.sqrt(len(df[' Blood Pressure After (mmHg)']))\n",
        "print(\" Standard Error for after the blood pressure is : \",se_after )\n",
        "\n",
        "\n",
        "\n"
      ],
      "metadata": {
        "colab": {
          "base_uri": "https://localhost:8080/"
        },
        "id": "bIHnY5qutAxO",
        "outputId": "aa8c246e-9794-4ca1-91c7-3d5e2b36c5ab"
      },
      "execution_count": null,
      "outputs": [
        {
          "output_type": "stream",
          "name": "stdout",
          "text": [
            "Mean of Blood pressure before: 133.91\n",
            "Mean of Blood pressure after: 128.36\n",
            " Standard Error for before the blood pressure is :  0.6598278012275076\n",
            " Standard Error for after the blood pressure is :  0.6888022102523226\n"
          ]
        }
      ]
    },
    {
      "cell_type": "code",
      "source": [],
      "metadata": {
        "id": "khoECJrJqZJM"
      },
      "execution_count": null,
      "outputs": []
    },
    {
      "cell_type": "markdown",
      "source": [
        "The MAD represents the average distance between each data point and the mean. It provides a measure of the variability or dispersion of the data around the mean. The SD measures the spread or dispersion of the data points from the mean. A higher MAD or SD indicates higher variability or dispersion in the data."
      ],
      "metadata": {
        "id": "ifT2ipiUqa7i"
      }
    },
    {
      "cell_type": "code",
      "source": [
        "import numpy as np\n",
        "\n",
        "# Calculate Mean Absolute Deviation (MAD)\n",
        "mad_column1 = np.mean(np.abs(df[' Blood Pressure Before (mmHg)'] - np.mean(df[' Blood Pressure Before (mmHg)'])))\n",
        "mad_column2 = np.mean(np.abs(df[' Blood Pressure After (mmHg)'] - np.mean(df[' Blood Pressure After (mmHg)'])))\n",
        "print('Mean Absolute Deviation (MAD) for Blood Pressure Before:', mad_column1)\n",
        "print('Mean Absolute Deviation (MAD) for Blood Pressure After:', mad_column2)\n",
        "\n",
        "# Calculate Standard Deviation (SD)\n",
        "sd_column1 = np.std(df[' Blood Pressure Before (mmHg)'])\n",
        "sd_column2 = np.std(df[' Blood Pressure After (mmHg)'])\n",
        "print('Standard Deviation (SD) for Blood Pressure Before:', sd_column1)\n",
        "print('Standard Deviation (SD) for Blood Pressure After:', sd_column2)"
      ],
      "metadata": {
        "colab": {
          "base_uri": "https://localhost:8080/"
        },
        "id": "N_EQ-6BYqc_t",
        "outputId": "3c66d9ad-aabd-4004-88b6-e5f54bf43e0b"
      },
      "execution_count": null,
      "outputs": [
        {
          "output_type": "stream",
          "name": "stdout",
          "text": [
            "Mean Absolute Deviation (MAD) for Blood Pressure Before: 5.7118\n",
            "Mean Absolute Deviation (MAD) for Blood Pressure After: 5.9\n",
            "Standard Deviation (SD) for Blood Pressure Before: 6.56520372875054\n",
            "Standard Deviation (SD) for Blood Pressure After: 6.853495458523336\n"
          ]
        }
      ]
    },
    {
      "cell_type": "code",
      "source": [
        "# Calculate margin of error using t-distribution (assuming 95% confidence level)\n",
        "from scipy.stats import t\n",
        "t_value = t.ppf(0.975, df=len(df)-1)\n",
        "margin_of_error_before = t_value * se_before\n",
        "margin_of_error_after = t_value * se_after\n"
      ],
      "metadata": {
        "id": "IoKUsEleoSz1"
      },
      "execution_count": null,
      "outputs": []
    },
    {
      "cell_type": "code",
      "source": [
        "# Calculate lower and upper bounds of the confidence interval\n",
        "lower_bound_before = mean_before - margin_of_error_before\n",
        "upper_bound_before = mean_before + margin_of_error_before\n",
        "lower_bound_after = mean_after - margin_of_error_after\n",
        "upper_bound_after = mean_after + margin_of_error_after"
      ],
      "metadata": {
        "id": "O1l36pTevQRM"
      },
      "execution_count": null,
      "outputs": []
    },
    {
      "cell_type": "code",
      "source": [
        "# Plotting\n",
        "labels = ['Before', 'After']\n",
        "means = [mean_before, mean_after]\n",
        "confidence_intervals = [(lower_bound_before, upper_bound_before), (lower_bound_after, upper_bound_after)]\n",
        "\n",
        "x = np.arange(len(labels))\n",
        "width = 0.35\n",
        "\n",
        "fig, ax = plt.subplots()\n",
        "rects = ax.bar(x, means, width, yerr=[(ci[1]-ci[0])/2 for ci in confidence_intervals])\n",
        "\n",
        "ax.set_ylabel('Mean')\n",
        "ax.set_title('Mean and Confidence Interval')\n",
        "ax.set_xticks(x)\n",
        "ax.set_xticklabels(labels)\n",
        "ax.legend(['Confidence Interval'])\n",
        "\n",
        "plt.show()\n",
        "\n",
        "\n",
        "\n",
        "\n"
      ],
      "metadata": {
        "colab": {
          "base_uri": "https://localhost:8080/",
          "height": 452
        },
        "id": "RvcPPYFtpBEi",
        "outputId": "2b84463f-a1a4-4fa6-9959-85528c801b3e"
      },
      "execution_count": null,
      "outputs": [
        {
          "output_type": "display_data",
          "data": {
            "text/plain": [
              "<Figure size 640x480 with 1 Axes>"
            ],
            "image/png": "[encoded data removed]"
          },
          "metadata": {}
        }
      ]
    },
    {
      "cell_type": "code",
      "source": [
        "from scipy.stats import pearsonr\n",
        "\n",
        "# Calculate correlation coefficient\n",
        "corr_coef, p_value = pearsonr(df[' Blood Pressure Before (mmHg)'], df[' Blood Pressure After (mmHg)'])\n",
        "print('Correlation Coefficient:', corr_coef)\n",
        "print('P-value:', p_value)\n",
        "\n",
        "# Check significance at 1% level\n",
        "if p_value < 0.01:\n",
        "    print('Correlation is statistically significant at 1% level')\n",
        "else:\n",
        "    print('Correlation is not statistically significant at 1% level')"
      ],
      "metadata": {
        "colab": {
          "base_uri": "https://localhost:8080/"
        },
        "id": "hove_80Wpmkf",
        "outputId": "df4196f4-ff59-4dea-a012-c7a59526c2f7"
      },
      "execution_count": null,
      "outputs": [
        {
          "output_type": "stream",
          "name": "stdout",
          "text": [
            "Correlation Coefficient: 0.9779485966556017\n",
            "P-value: 1.8097381433068578e-68\n",
            "Correlation is statistically significant at 1% level\n"
          ]
        }
      ]
    },
    {
      "cell_type": "markdown",
      "source": [
        "Q-2. Consider a dataset containing the heights (in centimeters) of 1000 individuals. The\n",
        "mean height is 170 cm with a standard deviation of 10 cm. The dataset is approximately\n",
        "normally distributed, and its skewness is approximately zero. Based on this information,\n",
        "answer the following questions:\n",
        "a. What percentage of individuals in the dataset have heights between 160 cm\n",
        "and 180 cm?\n",
        "b. If we randomly select 100 individuals from the dataset, what is the probability\n",
        "that their average height is greater than 175 cm?\n",
        "c. Assuming the dataset follows a normal distribution, what is the z-score\n",
        "corresponding to a height of 185 cm?\n",
        "d. We know that 5% of the dataset has heights below a certain value. What is\n",
        "the approximate height corresponding to this threshold?\n",
        "e. Calculate the coefficient of variation (CV) for the dataset.\n",
        "f. Calculate the skewness of the dataset and interpret the result."
      ],
      "metadata": {
        "id": "Sn7dtevavQoe"
      }
    },
    {
      "cell_type": "code",
      "source": [
        "mean_height=170\n",
        "std_dev=10\n",
        "#What percentage of individuals in the dataset have heights between 160 cm and 180 cm?\n",
        "import scipy.stats as stats\n",
        "lower_bound = (160 - mean_height) / std_dev\n",
        "upper_bound=(180 -mean_height)/std_dev\n",
        "#a What percentage of individuals in the dataset have heights between 160 cm and 180 cm? b. If we randomly select 100 individuals from the dataset\n",
        "# Calculate the percentage between the bounds using cumulative distribution function (CDF)\n",
        "percentage = (stats.norm.cdf(upper_bound) - stats.norm.cdf(lower_bound)) * 100\n",
        "print(percentage)"
      ],
      "metadata": {
        "colab": {
          "base_uri": "https://localhost:8080/"
        },
        "id": "3f7k6lqxvSOM",
        "outputId": "80a60aba-9fa0-441c-dd08-002fdefeaeeb"
      },
      "execution_count": null,
      "outputs": [
        {
          "output_type": "stream",
          "name": "stdout",
          "text": [
            "68.26894921370858\n"
          ]
        }
      ]
    },
    {
      "cell_type": "code",
      "source": [
        "#If we randomly select 100 individuals from the dataset, what is the probability that their average height is greater than 175 cm?\n",
        "sample_mean=175\n",
        "sample_size=100\n",
        "sample_std=std_dev / (sample_size ** 0.5)\n",
        "# Calculate the z-score for the sample mean\n",
        "z_score=(sample_mean-mean_height)/sample_std\n",
        "#probability that their average height is greater than 175 cm\n",
        "probability = 1 - stats.norm.cdf(z_score)\n",
        "print(probability)"
      ],
      "metadata": {
        "colab": {
          "base_uri": "https://localhost:8080/"
        },
        "id": "QS_SMLbOcVNw",
        "outputId": "b03ed32a-8d62-43e8-9311-010239d9495d"
      },
      "execution_count": null,
      "outputs": [
        {
          "output_type": "stream",
          "name": "stdout",
          "text": [
            "2.866515719235352e-07\n"
          ]
        }
      ]
    },
    {
      "cell_type": "code",
      "source": [
        "#Assuming the dataset follows a normal distribution, what is the z-score corresponding to a height of 185 cm?\n",
        "z_score=(185-mean_height)/sample_std\n",
        "print(z_score)"
      ],
      "metadata": {
        "colab": {
          "base_uri": "https://localhost:8080/"
        },
        "id": "NAe3tMbHkLVN",
        "outputId": "823ed117-693e-4561-94da-ceb493e59723"
      },
      "execution_count": null,
      "outputs": [
        {
          "output_type": "stream",
          "name": "stdout",
          "text": [
            "15.0\n"
          ]
        }
      ]
    },
    {
      "cell_type": "code",
      "source": [
        "#We know that 5% of the dataset has heights below a certain value. What is the approximate height corresponding to this threshold?\n",
        "#coefficient\n",
        "coefficient_of_variation = (std_dev / mean_height) * 100\n",
        "print(coefficient_of_variation)"
      ],
      "metadata": {
        "colab": {
          "base_uri": "https://localhost:8080/"
        },
        "id": "r65vweXfq9yn",
        "outputId": "554bd68a-c06f-47f4-98e7-f3b53885ebfe"
      },
      "execution_count": null,
      "outputs": [
        {
          "output_type": "stream",
          "name": "stdout",
          "text": [
            "5.88235294117647\n"
          ]
        }
      ]
    },
    {
      "cell_type": "code",
      "source": [
        "skewness = stats.skew()\n",
        "print(\"Skewness of the dataset:\", skewness)"
      ],
      "metadata": {
        "id": "1CxDcU6mtHbR"
      },
      "execution_count": null,
      "outputs": []
    },
    {
      "cell_type": "markdown",
      "source": [
        "Q-6 A pharmaceutical company is developing a drug that is supposed to reduce blood\n",
        "pressure. They conduct a clinical trial with 100 patients and record their blood\n",
        "pressure before and after taking the drug. The company wants to know if the change\n",
        "in blood pressure follows a normal distribution.\n"
      ],
      "metadata": {
        "id": "P2MXh9pUr_7w"
      }
    },
    {
      "cell_type": "markdown",
      "source": [],
      "metadata": {
        "id": "usKzBcY1p4Zi"
      }
    },
    {
      "cell_type": "code",
      "source": [
        "from scipy import stats\n",
        "import pandas as pd\n",
        "import numpy as np\n",
        "data=pd.read_csv('/content/data1.csv')\n",
        "\n",
        "# Assume you have the change in blood pressure data stored in a list or array called 'data'\n",
        "# Perform Shapiro-Wilk test\n",
        "statistic, p_value = stats.shapiro(data)\n",
        "\n",
        "# Interpret the test results\n",
        "alpha = 0.05  # significance level\n",
        "\n",
        "if p_value > alpha:\n",
        "    print(\"The data follows a normal distribution (fail to reject the null hypothesis)\")\n",
        "else:\n",
        "    print(\"The data does not follow a normal distribution (reject the null hypothesis)\")"
      ],
      "metadata": {
        "id": "npkWB6pSp2Bs"
      },
      "execution_count": null,
      "outputs": []
    },
    {
      "cell_type": "code",
      "source": [],
      "metadata": {
        "id": "AJ-_uAwVa201"
      },
      "execution_count": null,
      "outputs": []
    },
    {
      "cell_type": "markdown",
      "source": [
        "Q-8. The anxiety levels of 10 participants were measured before and after a new therapy.\n",
        "The scores are not normally distributed. Use the Wilcoxon signed-rank test to test whether\n",
        "the therapy had a significant effect on anxiety levels. The data is given below: Participant\n",
        "Before therapy After therapy Difference"
      ],
      "metadata": {
        "id": "dC_riVYFa3cz"
      }
    },
    {
      "cell_type": "code",
      "source": [
        "from scipy import stats\n",
        "import pandas as pd\n",
        "import numpy as np"
      ],
      "metadata": {
        "id": "UA7LAhaMa4Ng"
      },
      "execution_count": null,
      "outputs": []
    },
    {
      "cell_type": "code",
      "source": [
        "#Ho(Accepted): Therapy had a significant effect on anxiety levels.\n",
        "#H1(rejected):Therapy had no significant effect on anxiety levels."
      ],
      "metadata": {
        "id": "apYbxBfea9Ex"
      },
      "execution_count": null,
      "outputs": []
    },
    {
      "cell_type": "markdown",
      "source": [
        "![image.png](data:image/png;base64,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)"
      ],
      "metadata": {
        "id": "bezUvRO1bCRZ"
      }
    },
    {
      "cell_type": "code",
      "source": [
        "df=pd.read_excel('/content/Therapy.xlsx')"
      ],
      "metadata": {
        "id": "5rEY-3xbbFFe"
      },
      "execution_count": null,
      "outputs": []
    },
    {
      "cell_type": "code",
      "source": [
        "# Create data\n",
        "import scipy.stats as stats\n",
        "df.dtypes"
      ],
      "metadata": {
        "colab": {
          "base_uri": "https://localhost:8080/"
        },
        "id": "cul2KcYQb47o",
        "outputId": "df867e35-c56e-423b-bb3b-5a77a58deb88"
      },
      "execution_count": null,
      "outputs": [
        {
          "output_type": "execute_result",
          "data": {
            "text/plain": [
              "Participant      int64\n",
              "Befor Therapy    int64\n",
              "After Therapy    int64\n",
              "Difference       int64\n",
              "dtype: object"
            ]
          },
          "metadata": {},
          "execution_count": 14
        }
      ]
    },
    {
      "cell_type": "code",
      "source": [
        "# conduct the Wilcoxon-Signed Rank Test\n",
        "# Perform the Wilcoxon signed-rank test\n",
        "Before=df['Befor Therapy']\n",
        "After=df['After Therapy']\n",
        "statistic, p_value = stats.wilcoxon(Before,After)\n",
        "print(\"Test Statistic:\", statistic)\n",
        "print(\"p-value:\", p_value)"
      ],
      "metadata": {
        "colab": {
          "base_uri": "https://localhost:8080/"
        },
        "id": "9kTYtSNab5wY",
        "outputId": "5911777f-d818-4bac-a8f8-b6f23437d824"
      },
      "execution_count": null,
      "outputs": [
        {
          "output_type": "stream",
          "name": "stdout",
          "text": [
            "Test Statistic: 0.0\n",
            "p-value: 0.001953125\n"
          ]
        }
      ]
    },
    {
      "cell_type": "code",
      "source": [
        "# Since p-value (0.00195) < alpha(0.05) means the Therapy had a significant effect on anxiety levels.We accept the Null Hypothesis."
      ],
      "metadata": {
        "id": "Lksmt1OLc1Mn"
      },
      "execution_count": null,
      "outputs": []
    },
    {
      "cell_type": "code",
      "source": [
        "df=pd.read_excel('/content/Mean.xlsx')"
      ],
      "metadata": {
        "id": "6HaY1EGIf4Q_"
      },
      "execution_count": null,
      "outputs": []
    },
    {
      "cell_type": "markdown",
      "source": [
        "Q-9. Given the score of students in multiple exams. Test the hypothesis that the mean scores of all the students are the same. If not, name the\n",
        "student with the highest score.\n",
        "![image.png](data:image/png;base64,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)"
      ],
      "metadata": {
        "id": "iRE9DePIf4rx"
      }
    },
    {
      "cell_type": "code",
      "source": [
        "#Ho(Accepted): Mean scores of all the students are the same.\n",
        "#H1(rejected):Mean scores of all the students are not the same.\n"
      ],
      "metadata": {
        "id": "l4eeeCAkf5yg"
      },
      "execution_count": null,
      "outputs": []
    },
    {
      "cell_type": "code",
      "source": [
        "from scipy import stats\n",
        "import pandas as pd\n",
        "import numpy as np\n",
        "df=pd.read_excel('/content/Mean.xlsx')\n",
        "df.columns"
      ],
      "metadata": {
        "colab": {
          "base_uri": "https://localhost:8080/"
        },
        "id": "8UtS7i3xgPiP",
        "outputId": "204ccdba-12e3-4af3-e5ed-efae522728b6"
      },
      "execution_count": null,
      "outputs": [
        {
          "output_type": "execute_result",
          "data": {
            "text/plain": [
              "Index(['Name', 'Exam1', 'Exam2', 'Final Exam'], dtype='object')"
            ]
          },
          "metadata": {},
          "execution_count": 25
        }
      ]
    },
    {
      "cell_type": "code",
      "source": [
        "#Use t test\n",
        "from scipy.stats import ttest_ind\n",
        "Exam_1=df['Final Exam'][df['Exam1'].notnull()]\n",
        "Exam_2=df['Final Exam'][df['Exam2'].notnull()]\n",
        "# Perform the t-test\n",
        "t_statistic, p_value = ttest_ind(Exam_1, Exam_2)\n",
        "Max_Name_Marks=df[df['Final Exam']==df['Final Exam'].max()][['Name','Final Exam']]\n",
        "#Max_Name_Marks=df.groupby('Final Exam').max()[['Name']].sort_values('Name',ascending=False)\n",
        "print(\"T-Statistic:\", t_statistic)\n",
        "print(\"p-value:\", p_value)\n",
        "print(Max_Name_Marks)"
      ],
      "metadata": {
        "colab": {
          "base_uri": "https://localhost:8080/"
        },
        "id": "Um6pyCr3gVUN",
        "outputId": "81a778a0-449c-4237-ea1c-83262a830c2a"
      },
      "execution_count": null,
      "outputs": [
        {
          "output_type": "stream",
          "name": "stdout",
          "text": [
            "T-Statistic: 0.0\n",
            "p-value: 1.0\n",
            "     Name  Final Exam\n",
            "4  Jeevan          96\n"
          ]
        }
      ]
    },
    {
      "cell_type": "code",
      "source": [
        "# Since p-value (1) > alpha(0.05) means the Mean scores of all the students are not the same.We reject the Null Hypothesis."
      ],
      "metadata": {
        "id": "kPYagloGkxdK"
      },
      "execution_count": null,
      "outputs": []
    },
    {
      "cell_type": "code",
      "source": [],
      "metadata": {
        "id": "ia1v2I7Rk-D9"
      },
      "execution_count": null,
      "outputs": []
    },
    {
      "cell_type": "markdown",
      "source": [
        "Q-10. A factory produces light bulbs, and the probability of a bulb being defective is 0.05. The factory produces a large batch of 500 light bulbs.\n",
        "What is the probability that exactly 20 bulbs are defective?\n",
        "What is the probability that at least 10 bulbs are defective?\n",
        "What is the probability that at max 15 bulbs are defective?\n",
        "On average, how many defective bulbs would you expect in a batch of 500?\n"
      ],
      "metadata": {
        "id": "LvH4HMxWEt94"
      }
    },
    {
      "cell_type": "code",
      "source": [
        "#define Binomial distribution\n",
        "import math\n",
        "def binomial_probability(n, k, p):\n",
        "  coefficient = math.comb(n, k)\n",
        "  probability = coefficient * (p ** k) * ((1 - p) ** (n - k))\n",
        "  return probability\n",
        "def defective_bulbs(n,p):\n",
        "  expected_value=n*p\n",
        "  return expected_value\n",
        "\n"
      ],
      "metadata": {
        "id": "ov89eT6MEtOR"
      },
      "execution_count": null,
      "outputs": []
    },
    {
      "cell_type": "code",
      "source": [
        "#probability that exactly 20 bulbs are defective\n",
        "n = 500\n",
        "k = 20\n",
        "p = 0.05\n",
        "probability_that_exactly_20_bulbs_are_defective=binomial_probability(n, k, p)\n",
        "print(\"probability that exactly 20 bulbs are defective: \" ,probability_that_exactly_20_bulbs_are_defective)"
      ],
      "metadata": {
        "colab": {
          "base_uri": "https://localhost:8080/"
        },
        "id": "hdDubl8gEtWw",
        "outputId": "3faa1ef1-b905-479e-e558-812a3ce65ee0"
      },
      "execution_count": null,
      "outputs": [
        {
          "output_type": "stream",
          "name": "stdout",
          "text": [
            "probability that exactly 20 bulbs are defective:  0.05161619253663997\n"
          ]
        }
      ]
    },
    {
      "cell_type": "code",
      "source": [
        "#What is the probability that at least 10 bulbs are defective?\n",
        "\n",
        "sum_probability_atleast_10_bulbs_are_defective=sum(binomial_probability(n, i, p) for i in range(10,n+1))\n",
        "print(\"Probability that at least 10 bulbs are defective: \",sum_probability_atleast_10_bulbs_are_defective)\n",
        "#What is the probability that at max 15 bulbs are defective?\n",
        "probability_that_at_max_15_bulbs_are_defective=sum(binomial_probability(n, i, p) for i in range(16))\n",
        "print(\"Probability that at max 15 bulbs are defective: \",probability_that_at_max_15_bulbs_are_defective)\n",
        "#defective bulbs would you expect in a batch of 500\n",
        "\n",
        "#how many defective bulbs would you expect in a batch of 500?\n",
        "defective_bulb =defective_bulbs(n,p)\n",
        "print(\" No of defective_bulbs are : \",defective_bulb)"
      ],
      "metadata": {
        "colab": {
          "base_uri": "https://localhost:8080/"
        },
        "id": "B5TDU-Rao6PY",
        "outputId": "c68b4bdc-6de9-422b-bf78-cc61db2bc66a"
      },
      "execution_count": null,
      "outputs": [
        {
          "output_type": "stream",
          "name": "stdout",
          "text": [
            "Probability that at least 10 bulbs are defective:  0.9998316463654692\n",
            "Probability that at max 15 bulbs are defective:  0.019858377163006223\n",
            " No of defective_bulbs are :  25.0\n"
          ]
        }
      ]
    },
    {
      "cell_type": "markdown",
      "source": [
        "Q-11. Given the data of a feature contributing to different classes.https://drive.google.com/file/d/1mCjtYHiX--mMUjicuaP2gH3k-SnFxt8Y/view?usp\n",
        "=share_\n",
        "a. Check whether the distribution of all the classes are the same or not.\n",
        "b. Check for the equality of variance/\n",
        "c. Which amount LDA and QDA would perform better on this data for\n",
        "classification and why.\n",
        "d. Check the equality of mean for between all the classes."
      ],
      "metadata": {
        "id": "vGgi0m5co40A"
      }
    },
    {
      "cell_type": "code",
      "source": [
        "from scipy import stats\n",
        "import pandas as pd\n",
        "import numpy as np\n",
        "df=pd.read_csv('/content/data.csv')"
      ],
      "metadata": {
        "id": "do0c7nfNo-qr"
      },
      "execution_count": null,
      "outputs": []
    },
    {
      "cell_type": "code",
      "source": [
        "#Ho(Accepted):Distribution of all the classes are the same.\n",
        "#H1(rejected):Distribution of all the classes are not same."
      ],
      "metadata": {
        "id": "MLgwZVk6pYZI"
      },
      "execution_count": null,
      "outputs": []
    },
    {
      "cell_type": "code",
      "source": [
        "df"
      ],
      "metadata": {
        "colab": {
          "base_uri": "https://localhost:8080/",
          "height": 423
        },
        "id": "9Jv7VZLopdW_",
        "outputId": "6b65bcbf-3f58-4ffa-b68c-154bb4bf589e"
      },
      "execution_count": null,
      "outputs": [
        {
          "output_type": "execute_result",
          "data": {
            "text/plain": [
              "    Patient ID   Before    After \n",
              "0            1       130      120\n",
              "1            2       142      135\n",
              "2            3       120      118\n",
              "3            4       135      127\n",
              "4            5       148      140\n",
              "..         ...       ...      ...\n",
              "95          96       136      129\n",
              "96          97       143      137\n",
              "97          98       127      123\n",
              "98          99       139      135\n",
              "99         100       135      130\n",
              "\n",
              "[100 rows x 3 columns]"
            ],
            "text/html": [
              "\n",
              "  <div id=\"df-d1260827-f12e-4b86-9018-4cd0382aed58\">\n",
              "    <div class=\"colab-df-container\">\n",
              "      <div>\n",
              "<style scoped>\n",
              "    .dataframe tbody tr th:only-of-type {\n",
              "        vertical-align: middle;\n",
              "    }\n",
              "\n",
              "    .dataframe tbody tr th {\n",
              "        vertical-align: top;\n",
              "    }\n",
              "\n",
              "    .dataframe thead th {\n",
              "        text-align: right;\n",
              "    }\n",
              "</style>\n",
              "<table border=\"1\" class=\"dataframe\">\n",
              "  <thead>\n",
              "    <tr style=\"text-align: right;\">\n",
              "      <th></th>\n",
              "      <th>Patient ID</th>\n",
              "      <th>Before</th>\n",
              "      <th>After</th>\n",
              "    </tr>\n",
              "  </thead>\n",
              "  <tbody>\n",
              "    <tr>\n",
              "      <th>0</th>\n",
              "      <td>1</td>\n",
              "      <td>130</td>\n",
              "      <td>120</td>\n",
              "    </tr>\n",
              "    <tr>\n",
              "      <th>1</th>\n",
              "      <td>2</td>\n",
              "      <td>142</td>\n",
              "      <td>135</td>\n",
              "    </tr>\n",
              "    <tr>\n",
              "      <th>2</th>\n",
              "      <td>3</td>\n",
              "      <td>120</td>\n",
              "      <td>118</td>\n",
              "    </tr>\n",
              "    <tr>\n",
              "      <th>3</th>\n",
              "      <td>4</td>\n",
              "      <td>135</td>\n",
              "      <td>127</td>\n",
              "    </tr>\n",
              "    <tr>\n",
              "      <th>4</th>\n",
              "      <td>5</td>\n",
              "      <td>148</td>\n",
              "      <td>140</td>\n",
              "    </tr>\n",
              "    <tr>\n",
              "      <th>...</th>\n",
              "      <td>...</td>\n",
              "      <td>...</td>\n",
              "      <td>...</td>\n",
              "    </tr>\n",
              "    <tr>\n",
              "      <th>95</th>\n",
              "      <td>96</td>\n",
              "      <td>136</td>\n",
              "      <td>129</td>\n",
              "    </tr>\n",
              "    <tr>\n",
              "      <th>96</th>\n",
              "      <td>97</td>\n",
              "      <td>143</td>\n",
              "      <td>137</td>\n",
              "    </tr>\n",
              "    <tr>\n",
              "      <th>97</th>\n",
              "      <td>98</td>\n",
              "      <td>127</td>\n",
              "      <td>123</td>\n",
              "    </tr>\n",
              "    <tr>\n",
              "      <th>98</th>\n",
              "      <td>99</td>\n",
              "      <td>139</td>\n",
              "      <td>135</td>\n",
              "    </tr>\n",
              "    <tr>\n",
              "      <th>99</th>\n",
              "      <td>100</td>\n",
              "      <td>135</td>\n",
              "      <td>130</td>\n",
              "    </tr>\n",
              "  </tbody>\n",
              "</table>\n",
              "<p>100 rows × 3 columns</p>\n",
              "</div>\n",
              "      <button class=\"colab-df-convert\" onclick=\"convertToInteractive('df-d1260827-f12e-4b86-9018-4cd0382aed58')\"\n",
              "              title=\"Convert this dataframe to an interactive table.\"\n",
              "              style=\"display:none;\">\n",
              "        \n",
              "  <svg xmlns=\"http://www.w3.org/2000/svg\" height=\"24px\"viewBox=\"0 0 24 24\"\n",
              "       width=\"24px\">\n",
              "    <path d=\"M0 0h24v24H0V0z\" fill=\"none\"/>\n",
              "    <path d=\"M18.56 5.44l.94 2.06.94-2.06 2.06-.94-2.06-.94-.94-2.06-.94 2.06-2.06.94zm-11 1L8.5 8.5l.94-2.06 2.06-.94-2.06-.94L8.5 2.5l-.94 2.06-2.06.94zm10 10l.94 2.06.94-2.06 2.06-.94-2.06-.94-.94-2.06-.94 2.06-2.06.94z\"/><path d=\"M17.41 7.96l-1.37-1.37c-.4-.4-.92-.59-1.43-.59-.52 0-1.04.2-1.43.59L10.3 9.45l-7.72 7.72c-.78.78-.78 2.05 0 2.83L4 21.41c.39.39.9.59 1.41.59.51 0 1.02-.2 1.41-.59l7.78-7.78 2.81-2.81c.8-.78.8-2.07 0-2.86zM5.41 20L4 18.59l7.72-7.72 1.47 1.35L5.41 20z\"/>\n",
              "  </svg>\n",
              "      </button>\n",
              "      \n",
              "  <style>\n",
              "    .colab-df-container {\n",
              "      display:flex;\n",
              "      flex-wrap:wrap;\n",
              "      gap: 12px;\n",
              "    }\n",
              "\n",
              "    .colab-df-convert {\n",
              "      background-color: #E8F0FE;\n",
              "      border: none;\n",
              "      border-radius: 50%;\n",
              "      cursor: pointer;\n",
              "      display: none;\n",
              "      fill: #1967D2;\n",
              "      height: 32px;\n",
              "      padding: 0 0 0 0;\n",
              "      width: 32px;\n",
              "    }\n",
              "\n",
              "    .colab-df-convert:hover {\n",
              "      background-color: #E2EBFA;\n",
              "      box-shadow: 0px 1px 2px rgba(60, 64, 67, 0.3), 0px 1px 3px 1px rgba(60, 64, 67, 0.15);\n",
              "      fill: #174EA6;\n",
              "    }\n",
              "\n",
              "    [theme=dark] .colab-df-convert {\n",
              "      background-color: #3B4455;\n",
              "      fill: #D2E3FC;\n",
              "    }\n",
              "\n",
              "    [theme=dark] .colab-df-convert:hover {\n",
              "      background-color: #434B5C;\n",
              "      box-shadow: 0px 1px 3px 1px rgba(0, 0, 0, 0.15);\n",
              "      filter: drop-shadow(0px 1px 2px rgba(0, 0, 0, 0.3));\n",
              "      fill: #FFFFFF;\n",
              "    }\n",
              "  </style>\n",
              "\n",
              "      <script>\n",
              "        const buttonEl =\n",
              "          document.querySelector('#df-d1260827-f12e-4b86-9018-4cd0382aed58 button.colab-df-convert');\n",
              "        buttonEl.style.display =\n",
              "          google.colab.kernel.accessAllowed ? 'block' : 'none';\n",
              "\n",
              "        async function convertToInteractive(key) {\n",
              "          const element = document.querySelector('#df-d1260827-f12e-4b86-9018-4cd0382aed58');\n",
              "          const dataTable =\n",
              "            await google.colab.kernel.invokeFunction('convertToInteractive',\n",
              "                                                     [key], {});\n",
              "          if (!dataTable) return;\n",
              "\n",
              "          const docLinkHtml = 'Like what you see? Visit the ' +\n",
              "            '<a target=\"_blank\" href=https://colab.research.google.com/notebooks/data_table.ipynb>data table notebook</a>'\n",
              "            + ' to learn more about interactive tables.';\n",
              "          element.innerHTML = '';\n",
              "          dataTable['output_type'] = 'display_data';\n",
              "          await google.colab.output.renderOutput(dataTable, element);\n",
              "          const docLink = document.createElement('div');\n",
              "          docLink.innerHTML = docLinkHtml;\n",
              "          element.appendChild(docLink);\n",
              "        }\n",
              "      </script>\n",
              "    </div>\n",
              "  </div>\n",
              "  "
            ]
          },
          "metadata": {},
          "execution_count": 44
        }
      ]
    },
    {
      "cell_type": "code",
      "source": [
        "Before=df[' Before ']\n",
        "After=df[' After ']"
      ],
      "metadata": {
        "id": "SwX7HWa8pdhC"
      },
      "execution_count": null,
      "outputs": []
    },
    {
      "cell_type": "code",
      "source": [
        "import scipy.stats as stats\n",
        "\n",
        "# Perform one-way ANOVA\n",
        "f_statistic, p_value = stats.f_oneway(Before, After)\n",
        "print(\"T-Statistic:\", t_statistic)\n",
        "print(\"p-value:\", p_value)"
      ],
      "metadata": {
        "colab": {
          "base_uri": "https://localhost:8080/"
        },
        "id": "coLRHgroqjfN",
        "outputId": "714aee09-461e-4c4f-875b-8695b07daf8b"
      },
      "execution_count": null,
      "outputs": [
        {
          "output_type": "stream",
          "name": "stdout",
          "text": [
            "T-Statistic: 0.0\n",
            "p-value: 2.3565868442707578e-08\n"
          ]
        }
      ]
    },
    {
      "cell_type": "code",
      "source": [
        "# Since p-value (2.3565868442707578e-08) < alpha(0.05) means the Distribution of all the classes are the same.We accept the Null Hypothesis."
      ],
      "metadata": {
        "id": "cSRaD6xmrF_P"
      },
      "execution_count": null,
      "outputs": []
    },
    {
      "cell_type": "code",
      "source": [
        "#b. Check for the equality of variance:\n",
        "# Perform Levene's test or Bartlett's test\n",
        "statistic, p_value = stats.levene(Before, After)\n",
        "# Print the test results\n",
        "print(\"Levene's test results:\")\n",
        "print(\"Test Statistic:\", statistic)\n",
        "print(\"p-value:\", p_value)"
      ],
      "metadata": {
        "colab": {
          "base_uri": "https://localhost:8080/"
        },
        "id": "ISEcKnKPrhTU",
        "outputId": "5e985068-f6bf-46f8-a4db-3c9df3978a4f"
      },
      "execution_count": null,
      "outputs": [
        {
          "output_type": "stream",
          "name": "stdout",
          "text": [
            "Levene's test results:\n",
            "Test Statistic: 0.18038002140150966\n",
            "p-value: 0.6715080090945376\n"
          ]
        }
      ]
    },
    {
      "cell_type": "code",
      "source": [
        "#Determine the better performing classifier (LDA or QDA):\n",
        "#To determine which classifier (Linear Discriminant Analysis - LDA or Quadratic Discriminant Analysis - QDA) would perform better on the data for classification, you can consider the assumptions and characteristics of both methods. LDA assumes that the classes have equal covariance matrices and linear boundaries, while QDA relaxes the assumption of equal covariance matrices but allows for non-linear boundaries."
      ],
      "metadata": {
        "id": "0h2q_ZSVrlne"
      },
      "execution_count": null,
      "outputs": []
    },
    {
      "cell_type": "code",
      "source": [
        "#Since p-value (0.67)> alpha(0.05) means the there is no equality of variance."
      ],
      "metadata": {
        "id": "fqxEPyUDs6IL"
      },
      "execution_count": null,
      "outputs": []
    },
    {
      "cell_type": "code",
      "source": [
        "from statsmodels.stats.multicomp import pairwise_tukeyhsd\n",
        "\n",
        "# Perform pairwise t-tests or post-hoc tests\n",
        "tukey_results = pairwise_tukeyhsd(df[' Before '],df[' After '], alpha=0.05)\n",
        "\n",
        "# Print the post-hoc test results\n",
        "print(\"Post-hoc test results:\")\n",
        "print(tukey_results)"
      ],
      "metadata": {
        "colab": {
          "base_uri": "https://localhost:8080/"
        },
        "id": "Ws8NYZ7-s6Le",
        "outputId": "6f3c2d34-6da3-419a-96eb-208dfe14cb70"
      },
      "execution_count": null,
      "outputs": [
        {
          "output_type": "stream",
          "name": "stdout",
          "text": [
            "Post-hoc test results:\n",
            "Multiple Comparison of Means - Tukey HSD, FWER=0.05 \n",
            "====================================================\n",
            "group1 group2 meandiff p-adj   lower   upper  reject\n",
            "----------------------------------------------------\n",
            "   118    119   2.3571 0.3953 -0.7619  5.4762  False\n",
            "   118    120   5.3571    0.0  2.2381  8.4762   True\n",
            "   118    121   4.4821    0.0  2.4688  6.4955   True\n",
            "   118    122   4.6071    0.0  2.1689  7.0454   True\n",
            "   118    123   4.5238    0.0  2.5634  6.4843   True\n",
            "   118    124   7.1429    0.0  5.0635  9.2222   True\n",
            "   118    125   7.3571    0.0  4.9189  9.7954   True\n",
            "   118    126   7.8571    0.0  3.6984 12.0159   True\n",
            "   118    127   9.3571    0.0  7.1929 11.5214   True\n",
            "   118    129  12.7571    0.0 10.8401 14.6742   True\n",
            "   118    130  12.0571    0.0  9.7793  14.335   True\n",
            "   118    131  12.6071    0.0 10.1689 15.0454   True\n",
            "   118    132  16.3571    0.0 13.2381 19.4762   True\n",
            "   118    135  16.4821    0.0 14.4688 18.4955   True\n",
            "   118    136  18.1071    0.0 15.6689 20.5454   True\n",
            "   118    137  19.6905    0.0 17.5262 21.8548   True\n",
            "   118    139  19.0571    0.0 16.7793  21.335   True\n",
            "   118    140  23.3571    0.0 20.2381 26.4762   True\n",
            "   118    141  21.8571    0.0 19.4189 24.2954   True\n",
            "   119    120      3.0 0.3584 -0.8902  6.8902  False\n",
            "   119    121    2.125 0.5636 -0.9504  5.2004  False\n",
            "   119    122     2.25 0.6253  -1.119   5.619  False\n",
            "   119    123   2.1667 0.5061 -0.8744  5.2077  False\n",
            "   119    124   4.7857    0.0  1.6667  7.9048   True\n",
            "   119    125      5.0 0.0001   1.631   8.369   True\n",
            "   119    126      5.5 0.0086  0.7356 10.2644   True\n",
            "   119    127      7.0    0.0  3.8237 10.1763   True\n",
            "   119    129     10.4    0.0  7.3867 13.4133   True\n",
            "   119    130      9.7    0.0  6.4453 12.9547   True\n",
            "   119    131    10.25    0.0   6.881  13.619   True\n",
            "   119    132     14.0    0.0 10.1098 17.8902   True\n",
            "   119    135   14.125    0.0 11.0496 17.2004   True\n",
            "   119    136    15.75    0.0  12.381  19.119   True\n",
            "   119    137  17.3333    0.0  14.157 20.5096   True\n",
            "   119    139     16.7    0.0 13.4453 19.9547   True\n",
            "   119    140     21.0    0.0 17.1098 24.8902   True\n",
            "   119    141     19.5    0.0  16.131  22.869   True\n",
            "   120    121   -0.875 0.9999 -3.9504  2.2004  False\n",
            "   120    122    -0.75    1.0  -4.119   2.619  False\n",
            "   120    123  -0.8333    1.0 -3.8744  2.2077  False\n",
            "   120    124   1.7857 0.8476 -1.3333  4.9048  False\n",
            "   120    125      2.0 0.8057  -1.369   5.369  False\n",
            "   120    126      2.5 0.9214 -2.2644  7.2644  False\n",
            "   120    127      4.0 0.0023  0.8237  7.1763   True\n",
            "   120    129      7.4    0.0  4.3867 10.4133   True\n",
            "   120    130      6.7    0.0  3.4453  9.9547   True\n",
            "   120    131     7.25    0.0   3.881  10.619   True\n",
            "   120    132     11.0    0.0  7.1098 14.8902   True\n",
            "   120    135   11.125    0.0  8.0496 14.2004   True\n",
            "   120    136    12.75    0.0   9.381  16.119   True\n",
            "   120    137  14.3333    0.0  11.157 17.5096   True\n",
            "   120    139     13.7    0.0 10.4453 16.9547   True\n",
            "   120    140     18.0    0.0 14.1098 21.8902   True\n",
            "   120    141     16.5    0.0  13.131  19.869   True\n",
            "   121    122    0.125    1.0 -2.2572  2.5072  False\n",
            "   121    123   0.0417    1.0 -1.8486  1.9319  False\n",
            "   121    124   2.6607  0.001  0.6474  4.6741   True\n",
            "   121    125    2.875 0.0045  0.4928  5.2572   True\n",
            "   121    126    3.375 0.2586 -0.7511  7.5011  False\n",
            "   121    127    4.875    0.0  2.7741  6.9759   True\n",
            "   121    129    8.275    0.0  6.4297 10.1203   True\n",
            "   121    130    7.575    0.0  5.3573  9.7927   True\n",
            "   121    131    8.125    0.0  5.7428 10.5072   True\n",
            "   121    132   11.875    0.0  8.7996 14.9504   True\n",
            "   121    135     12.0    0.0 10.0549 13.9451   True\n",
            "   121    136   13.625    0.0 11.2428 16.0072   True\n",
            "   121    137  15.2083    0.0 13.1074 17.3093   True\n",
            "   121    139   14.575    0.0 12.3573 16.7927   True\n",
            "   121    140   18.875    0.0 15.7996 21.9504   True\n",
            "   121    141   17.375    0.0 14.9928 19.7572   True\n",
            "   122    123  -0.0833    1.0  -2.421  2.2544  False\n",
            "   122    124   2.5357 0.0326  0.0974   4.974   True\n",
            "   122    125     2.75 0.0501 -0.0008  5.5008  False\n",
            "   122    126     3.25 0.4163 -1.0993  7.5993  False\n",
            "   122    127     4.75    0.0  2.2389  7.2611   True\n",
            "   122    129     8.15    0.0  5.8486 10.4514   True\n",
            "   122    130     7.45    0.0  4.8404 10.0596   True\n",
            "   122    131      8.0    0.0  5.2492 10.7508   True\n",
            "   122    132    11.75    0.0   8.381  15.119   True\n",
            "   122    135   11.875    0.0  9.4928 14.2572   True\n",
            "   122    136     13.5    0.0 10.7492 16.2508   True\n",
            "   122    137  15.0833    0.0 12.5723 17.5944   True\n",
            "   122    139    14.45    0.0 11.8404 17.0596   True\n",
            "   122    140    18.75    0.0  15.381  22.119   True\n",
            "   122    141    17.25    0.0 14.4992 20.0008   True\n",
            "   123    124    2.619 0.0008  0.6586  4.5795   True\n",
            "   123    125   2.8333 0.0042  0.4956   5.171   True\n",
            "   123    126   3.3333 0.2685 -0.7672  7.4339  False\n",
            "   123    127   4.8333    0.0   2.783  6.8836   True\n",
            "   123    129   8.2333    0.0  6.4459 10.0207   True\n",
            "   123    130   7.5333    0.0  5.3635  9.7032   True\n",
            "   123    131   8.0833    0.0  5.7456  10.421   True\n",
            "   123    132  11.8333    0.0  8.7923 14.8744   True\n",
            "   123    135  11.9583    0.0 10.0681 13.8486   True\n",
            "   123    136  13.5833    0.0 11.2456  15.921   True\n",
            "   123    137  15.1667    0.0 13.1164  17.217   True\n",
            "   123    139  14.5333    0.0 12.3635 16.7032   True\n",
            "   123    140  18.8333    0.0 15.7923 21.8744   True\n",
            "   123    141  17.3333    0.0 14.9956  19.671   True\n",
            "   124    125   0.2143    1.0  -2.224  2.6526  False\n",
            "   124    126   0.7143    1.0 -3.4445   4.873  False\n",
            "   124    127   2.2143 0.0391    0.05  4.3786   True\n",
            "   124    129   5.6143    0.0  3.6972  7.5314   True\n",
            "   124    130   4.9143    0.0  2.6364  7.1921   True\n",
            "   124    131   5.4643    0.0   3.026  7.9026   True\n",
            "   124    132   9.2143    0.0  6.0952 12.3333   True\n",
            "   124    135   9.3393    0.0  7.3259 11.3526   True\n",
            "   124    136  10.9643    0.0   8.526 13.4026   True\n",
            "   124    137  12.5476    0.0 10.3833 14.7119   True\n",
            "   124    139  11.9143    0.0  9.6364 14.1921   True\n",
            "   124    140  16.2143    0.0 13.0952 19.3333   True\n",
            "   124    141  14.7143    0.0  12.276 17.1526   True\n",
            "   125    126      0.5    1.0 -3.8493  4.8493  False\n",
            "   125    127      2.0 0.3021 -0.5111  4.5111  False\n",
            "   125    129      5.4    0.0  3.0986  7.7014   True\n",
            "   125    130      4.7    0.0  2.0904  7.3096   True\n",
            "   125    131     5.25    0.0  2.4992  8.0008   True\n",
            "   125    132      9.0    0.0   5.631  12.369   True\n",
            "   125    135    9.125    0.0  6.7428 11.5072   True\n",
            "   125    136    10.75    0.0  7.9992 13.5008   True\n",
            "   125    137  12.3333    0.0  9.8223 14.8444   True\n",
            "   125    139     11.7    0.0  9.0904 14.3096   True\n",
            "   125    140     16.0    0.0  12.631  19.369   True\n",
            "   125    141     14.5    0.0 11.7492 17.2508   True\n",
            "   126    127      1.5 0.9987 -2.7018  5.7018  False\n",
            "   126    129      4.9 0.0048    0.82    8.98   True\n",
            "   126    130      4.2  0.058 -0.0614  8.4614  False\n",
            "   126    131     4.75 0.0181  0.4007  9.0993   True\n",
            "   126    132      8.5    0.0  3.7356 13.2644   True\n",
            "   126    135    8.625    0.0  4.4989 12.7511   True\n",
            "   126    136    10.25    0.0  5.9007 14.5993   True\n",
            "   126    137  11.8333    0.0  7.6315 16.0352   True\n",
            "   126    139     11.2    0.0  6.9386 15.4614   True\n",
            "   126    140     15.5    0.0 10.7356 20.2644   True\n",
            "   126    141     14.0    0.0  9.6507 18.3493   True\n",
            "   127    129      3.4    0.0  1.3911  5.4089   True\n",
            "   127    130      2.7 0.0095  0.3444  5.0556   True\n",
            "   127    131     3.25 0.0014  0.7389  5.7611   True\n",
            "   127    132      7.0    0.0  3.8237 10.1763   True\n",
            "   127    135    7.125    0.0  5.0241  9.2259   True\n",
            "   127    136     8.75    0.0  6.2389 11.2611   True\n",
            "   127    137  10.3333    0.0  8.0874 12.5793   True\n",
            "   127    139      9.7    0.0  7.3444 12.0556   True\n",
            "   127    140     14.0    0.0 10.8237 17.1763   True\n",
            "   127    141     12.5    0.0  9.9889 15.0111   True\n",
            "   129    130     -0.7 0.9996 -2.8307  1.4307  False\n",
            "   129    131    -0.15    1.0 -2.4514  2.1514  False\n",
            "   129    132      3.6 0.0052  0.5867  6.6133   True\n",
            "   129    135    3.725    0.0  1.8797  5.5703   True\n",
            "   129    136     5.35    0.0  3.0486  7.6514   True\n",
            "   129    137   6.9333    0.0  4.9245  8.9422   True\n",
            "   129    139      6.3    0.0  4.1693  8.4307   True\n",
            "   129    140     10.6    0.0  7.5867 13.6133   True\n",
            "   129    141      9.1    0.0  6.7986 11.4014   True\n",
            "   130    131     0.55    1.0 -2.0596  3.1596  False\n",
            "   130    132      4.3  0.001  1.0453  7.5547   True\n",
            "   130    135    4.425    0.0  2.2073  6.6427   True\n",
            "   130    136     6.05    0.0  3.4404  8.6596   True\n",
            "   130    137   7.6333    0.0  5.2777  9.9889   True\n",
            "   130    139      7.0    0.0  4.5397  9.4603   True\n",
            "   130    140     11.3    0.0  8.0453 14.5547   True\n",
            "   130    141      9.8    0.0  7.1904 12.4096   True\n",
            "   131    132     3.75 0.0142   0.381   7.119   True\n",
            "   131    135    3.875    0.0  1.4928  6.2572   True\n",
            "   131    136      5.5    0.0  2.7492  8.2508   True\n",
            "   131    137   7.0833    0.0  4.5723  9.5944   True\n",
            "   131    139     6.45    0.0  3.8404  9.0596   True\n",
            "   131    140    10.75    0.0   7.381  14.119   True\n",
            "   131    141     9.25    0.0  6.4992 12.0008   True\n",
            "   132    135    0.125    1.0 -2.9504  3.2004  False\n",
            "   132    136     1.75 0.9277  -1.619   5.119  False\n",
            "   132    137   3.3333 0.0294   0.157  6.5096   True\n",
            "   132    139      2.7 0.2369 -0.5547  5.9547  False\n",
            "   132    140      7.0    0.0  3.1098 10.8902   True\n",
            "   132    141      5.5    0.0   2.131   8.869   True\n",
            "   135    136    1.625 0.5872 -0.7572  4.0072  False\n",
            "   135    137   3.2083 0.0001  1.1074  5.3093   True\n",
            "   135    139    2.575 0.0079  0.3573  4.7927   True\n",
            "   135    140    6.875    0.0  3.7996  9.9504   True\n",
            "   135    141    5.375    0.0  2.9928  7.7572   True\n",
            "   136    137   1.5833 0.7212 -0.9277  4.0944  False\n",
            "   136    139     0.95 0.9984 -1.6596  3.5596  False\n",
            "   136    140     5.25    0.0   1.881   8.619   True\n",
            "   136    141     3.75 0.0006  0.9992  6.5008   True\n",
            "   137    139  -0.6333    1.0 -2.9889  1.7223  False\n",
            "   137    140   3.6667 0.0086  0.4904   6.843   True\n",
            "   137    141   2.1667 0.1817 -0.3444  4.6777  False\n",
            "   139    140      4.3  0.001  1.0453  7.5547   True\n",
            "   139    141      2.8 0.0226  0.1904  5.4096   True\n",
            "   140    141     -1.5 0.9831  -4.869   1.869  False\n",
            "----------------------------------------------------\n"
          ]
        }
      ]
    }
  ]
}